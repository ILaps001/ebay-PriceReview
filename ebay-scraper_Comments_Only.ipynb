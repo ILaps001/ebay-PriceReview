{
 "cells": [
  {
   "cell_type": "code",
   "execution_count": 1,
   "id": "5cf5547d",
   "metadata": {},
   "outputs": [],
   "source": [
    "#Import Dependencies\n"
   ]
  },
  {
   "cell_type": "code",
   "execution_count": 2,
   "id": "7d479959",
   "metadata": {},
   "outputs": [],
   "source": [
    "# Define the eBay filters dictionary\n"
   ]
  },
  {
   "cell_type": "code",
   "execution_count": 3,
   "id": "03e7d8b0",
   "metadata": {},
   "outputs": [],
   "source": [
    "# Define the URL for the eBay search\n",
    "\n",
    "\n",
    "# Define the query parameters for the search request\n"
   ]
  },
  {
   "cell_type": "code",
   "execution_count": 4,
   "id": "e838a42f",
   "metadata": {},
   "outputs": [
    {
     "name": "stdout",
     "output_type": "stream",
     "text": [
      "https://www.ebay.com/sch/i.html?_from=R40&_nkw=iphone+13&LH_ItemCondition=3000&LH_PrefLoc=2&_udlo=200&_udhi=400&_dcat=0&_sacat=0&_sop=10&LH_Sold=1&LH_Complete=1&LH_BIN=0&LH_Auction=1&LH_BO=0&LH_FS=0&_ipg=240&rt=nc\n"
     ]
    }
   ],
   "source": [
    "# Create a prepared request to inspect the full URL\n"
   ]
  },
  {
   "cell_type": "code",
   "execution_count": 5,
   "id": "db88284b",
   "metadata": {},
   "outputs": [
    {
     "name": "stdout",
     "output_type": "stream",
     "text": [
      "Scraping page: 1\n",
      "Scraping page: 2\n",
      "Scraping page: 3\n",
      "Scraping page: 4\n",
      "Scraping page: 5\n",
      "Scraping page: 6\n",
      "Scraping page: 7\n",
      "Scraping page: 8\n",
      "No more pages to scrape.\n"
     ]
    }
   ],
   "source": [
    "# Initialize Variables\n",
    "\n",
    "# Go over each page\n",
    "\n",
    "    # Send GET request to eBay with the defined parameters\n",
    "    # Get the HTML content of the page\n",
    "    \n",
    "    # Parse the HTML content using BeautifulSoup\n",
    "   \n",
    "    \n",
    "    # Find the next button\n",
    "    \n",
    "\n",
    "    # Check if the next button is disabled\n",
    "    \n",
    "    \n",
    "        # Extract items\n",
    "        \n",
    "\n",
    "        # Extract Listings\n",
    "        \n",
    "\n",
    "            # Define each item as a dictionary\n",
    "            \n",
    "\n",
    "            # Append the dictionary to the list\n",
    "            "
   ]
  },
  {
   "cell_type": "code",
   "execution_count": 6,
   "id": "9fb6f3f1",
   "metadata": {},
   "outputs": [],
   "source": [
    "# Turn items_list into a Pandas DataFrame\n"
   ]
  },
  {
   "cell_type": "code",
   "execution_count": 14,
   "id": "607c7b89",
   "metadata": {},
   "outputs": [],
   "source": [
    "# Define forbidden terms\n"
   ]
  },
  {
   "cell_type": "code",
   "execution_count": 17,
   "id": "fa7ec02a",
   "metadata": {},
   "outputs": [],
   "source": [
    "# Create a boolean mask for filtering out forbidden terms\n",
    "\n",
    "# Apply the mask to filter the DataFrame\n",
    "\n",
    "\n",
    "# Reset the index of the filtered DataFrame\n"
   ]
  },
  {
   "cell_type": "code",
   "execution_count": 12,
   "id": "1affb17d",
   "metadata": {},
   "outputs": [
    {
     "name": "stdout",
     "output_type": "stream",
     "text": [
      "Saved df to iphone 13.csv\n"
     ]
    }
   ],
   "source": [
    "# Save the filtered DataFrame to a CSV file\n"
   ]
  }
 ],
 "metadata": {
  "kernelspec": {
   "display_name": "Python 3 (ipykernel)",
   "language": "python",
   "name": "python3"
  },
  "language_info": {
   "codemirror_mode": {
    "name": "ipython",
    "version": 3
   },
   "file_extension": ".py",
   "mimetype": "text/x-python",
   "name": "python",
   "nbconvert_exporter": "python",
   "pygments_lexer": "ipython3",
   "version": "3.10.9"
  }
 },
 "nbformat": 4,
 "nbformat_minor": 5
}
